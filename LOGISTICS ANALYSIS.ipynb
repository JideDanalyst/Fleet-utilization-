{
 "cells": [
  {
   "cell_type": "code",
   "execution_count": 8,
   "id": "d5bc1bc9",
   "metadata": {},
   "outputs": [],
   "source": [
    "import pandas as pd"
   ]
  },
  {
   "cell_type": "code",
   "execution_count": 9,
   "id": "d0d3039c",
   "metadata": {},
   "outputs": [],
   "source": [
    "file_path = r\"C:\\Users\\JUMIA-4237\\Desktop\\Mr Lanre\\DATA_LOGIS.csv\""
   ]
  },
  {
   "cell_type": "code",
   "execution_count": 10,
   "id": "e016ce6c",
   "metadata": {},
   "outputs": [
    {
     "name": "stderr",
     "output_type": "stream",
     "text": [
      "C:\\Users\\JUMIA-4237\\AppData\\Local\\Temp\\ipykernel_15840\\920203071.py:1: DtypeWarning: Columns (18,19,21,23,24) have mixed types. Specify dtype option on import or set low_memory=False.\n",
      "  log = pd.read_csv(file_path)\n"
     ]
    }
   ],
   "source": [
    "log = pd.read_csv(file_path)"
   ]
  },
  {
   "cell_type": "code",
   "execution_count": 56,
   "id": "0bf769ea",
   "metadata": {},
   "outputs": [
    {
     "data": {
      "text/html": [
       "<div>\n",
       "<style scoped>\n",
       "    .dataframe tbody tr th:only-of-type {\n",
       "        vertical-align: middle;\n",
       "    }\n",
       "\n",
       "    .dataframe tbody tr th {\n",
       "        vertical-align: top;\n",
       "    }\n",
       "\n",
       "    .dataframe thead th {\n",
       "        text-align: right;\n",
       "    }\n",
       "</style>\n",
       "<table border=\"1\" class=\"dataframe\">\n",
       "  <thead>\n",
       "    <tr style=\"text-align: right;\">\n",
       "      <th></th>\n",
       "      <th>TXN NO</th>\n",
       "      <th>MAIN FTN CODE</th>\n",
       "      <th>Vehicle Number</th>\n",
       "      <th>Txn Code</th>\n",
       "      <th>REGION</th>\n",
       "      <th>SUBZONE</th>\n",
       "      <th>USED AS</th>\n",
       "      <th>VEHICLE TYPE</th>\n",
       "      <th>CR DT</th>\n",
       "      <th>Main FTN</th>\n",
       "      <th>...</th>\n",
       "      <th>END_TIME</th>\n",
       "      <th>TRACKER</th>\n",
       "      <th>Unnamed: 17</th>\n",
       "      <th>Unnamed: 18</th>\n",
       "      <th>Unnamed: 19</th>\n",
       "      <th>Unnamed: 20</th>\n",
       "      <th>Unnamed: 21</th>\n",
       "      <th>Unnamed: 22</th>\n",
       "      <th>Unnamed: 23</th>\n",
       "      <th>Unnamed: 24</th>\n",
       "    </tr>\n",
       "  </thead>\n",
       "  <tbody>\n",
       "    <tr>\n",
       "      <th>0</th>\n",
       "      <td>1350073</td>\n",
       "      <td>FT004</td>\n",
       "      <td>AKD187YA</td>\n",
       "      <td>FTBLAL</td>\n",
       "      <td>LAGOS</td>\n",
       "      <td>LAGOS 2</td>\n",
       "      <td>DELIVERY TRUCK</td>\n",
       "      <td>DELIVERY TRUCK</td>\n",
       "      <td>06-Mar-24</td>\n",
       "      <td>LOADING</td>\n",
       "      <td>...</td>\n",
       "      <td>01/05/2024 08:45</td>\n",
       "      <td>LAWAL ADETUNEJI</td>\n",
       "      <td>NaN</td>\n",
       "      <td>NaN</td>\n",
       "      <td>NaN</td>\n",
       "      <td>NaN</td>\n",
       "      <td>NaN</td>\n",
       "      <td>NaN</td>\n",
       "      <td>NaN</td>\n",
       "      <td>NaN</td>\n",
       "    </tr>\n",
       "    <tr>\n",
       "      <th>1</th>\n",
       "      <td>1377863</td>\n",
       "      <td>FT006</td>\n",
       "      <td>KSF591XX</td>\n",
       "      <td>FTBLTW</td>\n",
       "      <td>Kano</td>\n",
       "      <td>NORTH 1</td>\n",
       "      <td>DELIVERY TRUCK</td>\n",
       "      <td>DELIVERY TRUCK</td>\n",
       "      <td>01-Apr-24</td>\n",
       "      <td>WORKSHOP</td>\n",
       "      <td>...</td>\n",
       "      <td>01/05/2024 15:08</td>\n",
       "      <td>BUHARI MONSURU</td>\n",
       "      <td>NaN</td>\n",
       "      <td>NaN</td>\n",
       "      <td>NaN</td>\n",
       "      <td>NaN</td>\n",
       "      <td>NaN</td>\n",
       "      <td>NaN</td>\n",
       "      <td>NaN</td>\n",
       "      <td>NaN</td>\n",
       "    </tr>\n",
       "  </tbody>\n",
       "</table>\n",
       "<p>2 rows × 25 columns</p>\n",
       "</div>"
      ],
      "text/plain": [
       "    TXN NO MAIN FTN CODE Vehicle Number Txn Code REGION  SUBZONE  \\\n",
       "0  1350073         FT004       AKD187YA   FTBLAL  LAGOS  LAGOS 2   \n",
       "1  1377863         FT006       KSF591XX   FTBLTW   Kano  NORTH 1   \n",
       "\n",
       "         USED AS     VEHICLE TYPE      CR DT  Main FTN  ...          END_TIME  \\\n",
       "0  DELIVERY TRUCK  DELIVERY TRUCK  06-Mar-24   LOADING  ...  01/05/2024 08:45   \n",
       "1  DELIVERY TRUCK  DELIVERY TRUCK  01-Apr-24  WORKSHOP  ...  01/05/2024 15:08   \n",
       "\n",
       "           TRACKER Unnamed: 17 Unnamed: 18 Unnamed: 19 Unnamed: 20  \\\n",
       "0  LAWAL ADETUNEJI         NaN         NaN         NaN         NaN   \n",
       "1   BUHARI MONSURU         NaN         NaN         NaN         NaN   \n",
       "\n",
       "  Unnamed: 21 Unnamed: 22 Unnamed: 23 Unnamed: 24  \n",
       "0         NaN         NaN         NaN         NaN  \n",
       "1         NaN         NaN         NaN         NaN  \n",
       "\n",
       "[2 rows x 25 columns]"
      ]
     },
     "execution_count": 56,
     "metadata": {},
     "output_type": "execute_result"
    }
   ],
   "source": [
    "log.head(2)"
   ]
  },
  {
   "cell_type": "code",
   "execution_count": 57,
   "id": "da89267a",
   "metadata": {},
   "outputs": [],
   "source": [
    "log_c = log.dropna(axis=1)"
   ]
  },
  {
   "cell_type": "code",
   "execution_count": 58,
   "id": "07b35d81",
   "metadata": {},
   "outputs": [
    {
     "data": {
      "text/html": [
       "<div>\n",
       "<style scoped>\n",
       "    .dataframe tbody tr th:only-of-type {\n",
       "        vertical-align: middle;\n",
       "    }\n",
       "\n",
       "    .dataframe tbody tr th {\n",
       "        vertical-align: top;\n",
       "    }\n",
       "\n",
       "    .dataframe thead th {\n",
       "        text-align: right;\n",
       "    }\n",
       "</style>\n",
       "<table border=\"1\" class=\"dataframe\">\n",
       "  <thead>\n",
       "    <tr style=\"text-align: right;\">\n",
       "      <th></th>\n",
       "      <th>TXN NO</th>\n",
       "      <th>MAIN FTN CODE</th>\n",
       "      <th>Vehicle Number</th>\n",
       "      <th>Txn Code</th>\n",
       "      <th>REGION</th>\n",
       "      <th>SUBZONE</th>\n",
       "      <th>USED AS</th>\n",
       "      <th>VEHICLE TYPE</th>\n",
       "      <th>CR DT</th>\n",
       "      <th>Main FTN</th>\n",
       "      <th>TRIP_status</th>\n",
       "      <th>Sub FTN</th>\n",
       "      <th>TIME SERIES</th>\n",
       "      <th>FLEET STATUS</th>\n",
       "      <th>START_TIME</th>\n",
       "      <th>END_TIME</th>\n",
       "      <th>TRACKER</th>\n",
       "    </tr>\n",
       "  </thead>\n",
       "  <tbody>\n",
       "    <tr>\n",
       "      <th>0</th>\n",
       "      <td>1350073</td>\n",
       "      <td>FT004</td>\n",
       "      <td>AKD187YA</td>\n",
       "      <td>FTBLAL</td>\n",
       "      <td>LAGOS</td>\n",
       "      <td>LAGOS 2</td>\n",
       "      <td>DELIVERY TRUCK</td>\n",
       "      <td>DELIVERY TRUCK</td>\n",
       "      <td>06-Mar-24</td>\n",
       "      <td>LOADING</td>\n",
       "      <td>0</td>\n",
       "      <td>AWAITING LOADING</td>\n",
       "      <td>NO-Loading Oder</td>\n",
       "      <td>No loading order</td>\n",
       "      <td>01/05/2024 00:00</td>\n",
       "      <td>01/05/2024 08:45</td>\n",
       "      <td>LAWAL ADETUNEJI</td>\n",
       "    </tr>\n",
       "    <tr>\n",
       "      <th>1</th>\n",
       "      <td>1377863</td>\n",
       "      <td>FT006</td>\n",
       "      <td>KSF591XX</td>\n",
       "      <td>FTBLTW</td>\n",
       "      <td>Kano</td>\n",
       "      <td>NORTH 1</td>\n",
       "      <td>DELIVERY TRUCK</td>\n",
       "      <td>DELIVERY TRUCK</td>\n",
       "      <td>01-Apr-24</td>\n",
       "      <td>WORKSHOP</td>\n",
       "      <td>0</td>\n",
       "      <td>WORKSHOP</td>\n",
       "      <td>WORKSHOP</td>\n",
       "      <td>WORKSHOP</td>\n",
       "      <td>01/05/2024 00:00</td>\n",
       "      <td>01/05/2024 15:08</td>\n",
       "      <td>BUHARI MONSURU</td>\n",
       "    </tr>\n",
       "    <tr>\n",
       "      <th>2</th>\n",
       "      <td>1381366</td>\n",
       "      <td>FT006</td>\n",
       "      <td>SGM514ZR</td>\n",
       "      <td>FTBLTW</td>\n",
       "      <td>LAGOS</td>\n",
       "      <td>SOUTH WEST</td>\n",
       "      <td>DELIVERY TRUCK</td>\n",
       "      <td>DELIVERY TRUCK</td>\n",
       "      <td>03-Apr-24</td>\n",
       "      <td>WORKSHOP</td>\n",
       "      <td>0</td>\n",
       "      <td>WORKSHOP</td>\n",
       "      <td>WORKSHOP</td>\n",
       "      <td>WORKSHOP</td>\n",
       "      <td>01/05/2024 00:00</td>\n",
       "      <td>29/05/2024 15:00</td>\n",
       "      <td>ITUNU ALAUSA</td>\n",
       "    </tr>\n",
       "  </tbody>\n",
       "</table>\n",
       "</div>"
      ],
      "text/plain": [
       "    TXN NO MAIN FTN CODE Vehicle Number Txn Code REGION     SUBZONE  \\\n",
       "0  1350073         FT004       AKD187YA   FTBLAL  LAGOS     LAGOS 2   \n",
       "1  1377863         FT006       KSF591XX   FTBLTW   Kano     NORTH 1   \n",
       "2  1381366         FT006       SGM514ZR   FTBLTW  LAGOS  SOUTH WEST   \n",
       "\n",
       "         USED AS     VEHICLE TYPE      CR DT  Main FTN  TRIP_status  \\\n",
       "0  DELIVERY TRUCK  DELIVERY TRUCK  06-Mar-24   LOADING            0   \n",
       "1  DELIVERY TRUCK  DELIVERY TRUCK  01-Apr-24  WORKSHOP            0   \n",
       "2  DELIVERY TRUCK  DELIVERY TRUCK  03-Apr-24  WORKSHOP            0   \n",
       "\n",
       "            Sub FTN      TIME SERIES      FLEET STATUS        START_TIME  \\\n",
       "0  AWAITING LOADING  NO-Loading Oder  No loading order  01/05/2024 00:00   \n",
       "1          WORKSHOP         WORKSHOP          WORKSHOP  01/05/2024 00:00   \n",
       "2          WORKSHOP         WORKSHOP          WORKSHOP  01/05/2024 00:00   \n",
       "\n",
       "           END_TIME          TRACKER  \n",
       "0  01/05/2024 08:45  LAWAL ADETUNEJI  \n",
       "1  01/05/2024 15:08   BUHARI MONSURU  \n",
       "2  29/05/2024 15:00     ITUNU ALAUSA  "
      ]
     },
     "execution_count": 58,
     "metadata": {},
     "output_type": "execute_result"
    }
   ],
   "source": [
    "log_c.head(3)"
   ]
  },
  {
   "cell_type": "code",
   "execution_count": 59,
   "id": "b4c6bd9c",
   "metadata": {},
   "outputs": [
    {
     "name": "stderr",
     "output_type": "stream",
     "text": [
      "C:\\Users\\JUMIA-4237\\AppData\\Local\\Temp\\ipykernel_15840\\3951537735.py:1: SettingWithCopyWarning: \n",
      "A value is trying to be set on a copy of a slice from a DataFrame.\n",
      "Try using .loc[row_indexer,col_indexer] = value instead\n",
      "\n",
      "See the caveats in the documentation: https://pandas.pydata.org/pandas-docs/stable/user_guide/indexing.html#returning-a-view-versus-a-copy\n",
      "  log_c['START_TIME'] = pd.to_datetime(log_c['START_TIME'], format='%d/%m/%Y %H:%M')\n",
      "C:\\Users\\JUMIA-4237\\AppData\\Local\\Temp\\ipykernel_15840\\3951537735.py:2: SettingWithCopyWarning: \n",
      "A value is trying to be set on a copy of a slice from a DataFrame.\n",
      "Try using .loc[row_indexer,col_indexer] = value instead\n",
      "\n",
      "See the caveats in the documentation: https://pandas.pydata.org/pandas-docs/stable/user_guide/indexing.html#returning-a-view-versus-a-copy\n",
      "  log_c['END_TIME'] = pd.to_datetime(log_c['END_TIME'], format='%d/%m/%Y %H:%M')\n"
     ]
    }
   ],
   "source": [
    "log_c['START_TIME'] = pd.to_datetime(log_c['START_TIME'], format='%d/%m/%Y %H:%M')\n",
    "log_c['END_TIME'] = pd.to_datetime(log_c['END_TIME'], format='%d/%m/%Y %H:%M')"
   ]
  },
  {
   "cell_type": "code",
   "execution_count": 60,
   "id": "5368019f",
   "metadata": {},
   "outputs": [
    {
     "name": "stderr",
     "output_type": "stream",
     "text": [
      "C:\\Users\\JUMIA-4237\\AppData\\Local\\Temp\\ipykernel_15840\\1108978455.py:1: SettingWithCopyWarning: \n",
      "A value is trying to be set on a copy of a slice from a DataFrame.\n",
      "Try using .loc[row_indexer,col_indexer] = value instead\n",
      "\n",
      "See the caveats in the documentation: https://pandas.pydata.org/pandas-docs/stable/user_guide/indexing.html#returning-a-view-versus-a-copy\n",
      "  log_c['DURATION_HOURS'] = (log_c['END_TIME'] - log_c['START_TIME']).dt.total_seconds() / 3600\n",
      "C:\\Users\\JUMIA-4237\\AppData\\Local\\Temp\\ipykernel_15840\\1108978455.py:2: SettingWithCopyWarning: \n",
      "A value is trying to be set on a copy of a slice from a DataFrame.\n",
      "Try using .loc[row_indexer,col_indexer] = value instead\n",
      "\n",
      "See the caveats in the documentation: https://pandas.pydata.org/pandas-docs/stable/user_guide/indexing.html#returning-a-view-versus-a-copy\n",
      "  log_c['DURATION_DAYS'] = log_c['DURATION_HOURS'] / 24\n"
     ]
    }
   ],
   "source": [
    "log_c['DURATION_HOURS'] = (log_c['END_TIME'] - log_c['START_TIME']).dt.total_seconds() / 3600\n",
    "log_c['DURATION_DAYS'] = log_c['DURATION_HOURS'] / 24"
   ]
  },
  {
   "cell_type": "code",
   "execution_count": 61,
   "id": "c496d495",
   "metadata": {},
   "outputs": [
    {
     "name": "stderr",
     "output_type": "stream",
     "text": [
      "C:\\Users\\JUMIA-4237\\AppData\\Local\\Temp\\ipykernel_15840\\4187786053.py:1: SettingWithCopyWarning: \n",
      "A value is trying to be set on a copy of a slice from a DataFrame.\n",
      "Try using .loc[row_indexer,col_indexer] = value instead\n",
      "\n",
      "See the caveats in the documentation: https://pandas.pydata.org/pandas-docs/stable/user_guide/indexing.html#returning-a-view-versus-a-copy\n",
      "  log_c['MONTH'] = log_c['START_TIME'].dt.strftime('%B')\n"
     ]
    }
   ],
   "source": [
    "log_c['MONTH'] = log_c['START_TIME'].dt.strftime('%B')"
   ]
  },
  {
   "cell_type": "code",
   "execution_count": 66,
   "id": "26d512c3",
   "metadata": {},
   "outputs": [
    {
     "name": "stderr",
     "output_type": "stream",
     "text": [
      "C:\\Users\\JUMIA-4237\\AppData\\Local\\Temp\\ipykernel_15840\\3353875443.py:1: SettingWithCopyWarning: \n",
      "A value is trying to be set on a copy of a slice from a DataFrame.\n",
      "Try using .loc[row_indexer,col_indexer] = value instead\n",
      "\n",
      "See the caveats in the documentation: https://pandas.pydata.org/pandas-docs/stable/user_guide/indexing.html#returning-a-view-versus-a-copy\n",
      "  log_cl['WEEK'] = log_cl['START_TIME'].apply(lambda x: f\"Week{x.strftime('%U')}\")\n"
     ]
    }
   ],
   "source": [
    "log_cl['WEEK'] = log_cl['START_TIME'].apply(lambda x: f\"Week{x.strftime('%U')}\")"
   ]
  },
  {
   "cell_type": "code",
   "execution_count": 63,
   "id": "eb9bc515",
   "metadata": {},
   "outputs": [
    {
     "name": "stderr",
     "output_type": "stream",
     "text": [
      "C:\\Users\\JUMIA-4237\\AppData\\Local\\Temp\\ipykernel_15840\\2970842361.py:1: SettingWithCopyWarning: \n",
      "A value is trying to be set on a copy of a slice from a DataFrame.\n",
      "Try using .loc[row_indexer,col_indexer] = value instead\n",
      "\n",
      "See the caveats in the documentation: https://pandas.pydata.org/pandas-docs/stable/user_guide/indexing.html#returning-a-view-versus-a-copy\n",
      "  log_cl['DURATION_HOURS'] = log_cl['DURATION_HOURS'].round(3)\n",
      "C:\\Users\\JUMIA-4237\\AppData\\Local\\Temp\\ipykernel_15840\\2970842361.py:2: SettingWithCopyWarning: \n",
      "A value is trying to be set on a copy of a slice from a DataFrame.\n",
      "Try using .loc[row_indexer,col_indexer] = value instead\n",
      "\n",
      "See the caveats in the documentation: https://pandas.pydata.org/pandas-docs/stable/user_guide/indexing.html#returning-a-view-versus-a-copy\n",
      "  log_cl['DURATION_DAYS'] = log_cl['DURATION_DAYS'].round(3)\n"
     ]
    }
   ],
   "source": [
    "log_cl['DURATION_HOURS'] = log_cl['DURATION_HOURS'].round(3)\n",
    "log_cl['DURATION_DAYS'] = log_cl['DURATION_DAYS'].round(3)"
   ]
  },
  {
   "cell_type": "code",
   "execution_count": 67,
   "id": "2016e110",
   "metadata": {},
   "outputs": [],
   "source": [
    "log_cl = log_c"
   ]
  },
  {
   "cell_type": "code",
   "execution_count": 68,
   "id": "d22b69c4",
   "metadata": {},
   "outputs": [
    {
     "data": {
      "text/html": [
       "<div>\n",
       "<style scoped>\n",
       "    .dataframe tbody tr th:only-of-type {\n",
       "        vertical-align: middle;\n",
       "    }\n",
       "\n",
       "    .dataframe tbody tr th {\n",
       "        vertical-align: top;\n",
       "    }\n",
       "\n",
       "    .dataframe thead th {\n",
       "        text-align: right;\n",
       "    }\n",
       "</style>\n",
       "<table border=\"1\" class=\"dataframe\">\n",
       "  <thead>\n",
       "    <tr style=\"text-align: right;\">\n",
       "      <th></th>\n",
       "      <th>TXN NO</th>\n",
       "      <th>MAIN FTN CODE</th>\n",
       "      <th>Vehicle Number</th>\n",
       "      <th>Txn Code</th>\n",
       "      <th>REGION</th>\n",
       "      <th>SUBZONE</th>\n",
       "      <th>USED AS</th>\n",
       "      <th>VEHICLE TYPE</th>\n",
       "      <th>CR DT</th>\n",
       "      <th>Main FTN</th>\n",
       "      <th>...</th>\n",
       "      <th>Sub FTN</th>\n",
       "      <th>TIME SERIES</th>\n",
       "      <th>FLEET STATUS</th>\n",
       "      <th>START_TIME</th>\n",
       "      <th>END_TIME</th>\n",
       "      <th>TRACKER</th>\n",
       "      <th>DURATION_HOURS</th>\n",
       "      <th>DURATION_DAYS</th>\n",
       "      <th>MONTH</th>\n",
       "      <th>WEEK</th>\n",
       "    </tr>\n",
       "  </thead>\n",
       "  <tbody>\n",
       "    <tr>\n",
       "      <th>0</th>\n",
       "      <td>1350073</td>\n",
       "      <td>FT004</td>\n",
       "      <td>AKD187YA</td>\n",
       "      <td>FTBLAL</td>\n",
       "      <td>LAGOS</td>\n",
       "      <td>LAGOS 2</td>\n",
       "      <td>DELIVERY TRUCK</td>\n",
       "      <td>DELIVERY TRUCK</td>\n",
       "      <td>06-Mar-24</td>\n",
       "      <td>LOADING</td>\n",
       "      <td>...</td>\n",
       "      <td>AWAITING LOADING</td>\n",
       "      <td>NO-Loading Oder</td>\n",
       "      <td>No loading order</td>\n",
       "      <td>2024-05-01</td>\n",
       "      <td>2024-05-01 08:45:00</td>\n",
       "      <td>LAWAL ADETUNEJI</td>\n",
       "      <td>8.750000</td>\n",
       "      <td>0.364583</td>\n",
       "      <td>May</td>\n",
       "      <td>Week17</td>\n",
       "    </tr>\n",
       "    <tr>\n",
       "      <th>1</th>\n",
       "      <td>1377863</td>\n",
       "      <td>FT006</td>\n",
       "      <td>KSF591XX</td>\n",
       "      <td>FTBLTW</td>\n",
       "      <td>Kano</td>\n",
       "      <td>NORTH 1</td>\n",
       "      <td>DELIVERY TRUCK</td>\n",
       "      <td>DELIVERY TRUCK</td>\n",
       "      <td>01-Apr-24</td>\n",
       "      <td>WORKSHOP</td>\n",
       "      <td>...</td>\n",
       "      <td>WORKSHOP</td>\n",
       "      <td>WORKSHOP</td>\n",
       "      <td>WORKSHOP</td>\n",
       "      <td>2024-05-01</td>\n",
       "      <td>2024-05-01 15:08:00</td>\n",
       "      <td>BUHARI MONSURU</td>\n",
       "      <td>15.133333</td>\n",
       "      <td>0.630556</td>\n",
       "      <td>May</td>\n",
       "      <td>Week17</td>\n",
       "    </tr>\n",
       "    <tr>\n",
       "      <th>2</th>\n",
       "      <td>1381366</td>\n",
       "      <td>FT006</td>\n",
       "      <td>SGM514ZR</td>\n",
       "      <td>FTBLTW</td>\n",
       "      <td>LAGOS</td>\n",
       "      <td>SOUTH WEST</td>\n",
       "      <td>DELIVERY TRUCK</td>\n",
       "      <td>DELIVERY TRUCK</td>\n",
       "      <td>03-Apr-24</td>\n",
       "      <td>WORKSHOP</td>\n",
       "      <td>...</td>\n",
       "      <td>WORKSHOP</td>\n",
       "      <td>WORKSHOP</td>\n",
       "      <td>WORKSHOP</td>\n",
       "      <td>2024-05-01</td>\n",
       "      <td>2024-05-29 15:00:00</td>\n",
       "      <td>ITUNU ALAUSA</td>\n",
       "      <td>687.000000</td>\n",
       "      <td>28.625000</td>\n",
       "      <td>May</td>\n",
       "      <td>Week17</td>\n",
       "    </tr>\n",
       "  </tbody>\n",
       "</table>\n",
       "<p>3 rows × 21 columns</p>\n",
       "</div>"
      ],
      "text/plain": [
       "    TXN NO MAIN FTN CODE Vehicle Number Txn Code REGION     SUBZONE  \\\n",
       "0  1350073         FT004       AKD187YA   FTBLAL  LAGOS     LAGOS 2   \n",
       "1  1377863         FT006       KSF591XX   FTBLTW   Kano     NORTH 1   \n",
       "2  1381366         FT006       SGM514ZR   FTBLTW  LAGOS  SOUTH WEST   \n",
       "\n",
       "         USED AS     VEHICLE TYPE      CR DT  Main FTN  ...           Sub FTN  \\\n",
       "0  DELIVERY TRUCK  DELIVERY TRUCK  06-Mar-24   LOADING  ...  AWAITING LOADING   \n",
       "1  DELIVERY TRUCK  DELIVERY TRUCK  01-Apr-24  WORKSHOP  ...          WORKSHOP   \n",
       "2  DELIVERY TRUCK  DELIVERY TRUCK  03-Apr-24  WORKSHOP  ...          WORKSHOP   \n",
       "\n",
       "       TIME SERIES      FLEET STATUS START_TIME            END_TIME  \\\n",
       "0  NO-Loading Oder  No loading order 2024-05-01 2024-05-01 08:45:00   \n",
       "1         WORKSHOP          WORKSHOP 2024-05-01 2024-05-01 15:08:00   \n",
       "2         WORKSHOP          WORKSHOP 2024-05-01 2024-05-29 15:00:00   \n",
       "\n",
       "           TRACKER DURATION_HOURS  DURATION_DAYS  MONTH    WEEK  \n",
       "0  LAWAL ADETUNEJI       8.750000       0.364583    May  Week17  \n",
       "1   BUHARI MONSURU      15.133333       0.630556    May  Week17  \n",
       "2     ITUNU ALAUSA     687.000000      28.625000    May  Week17  \n",
       "\n",
       "[3 rows x 21 columns]"
      ]
     },
     "execution_count": 68,
     "metadata": {},
     "output_type": "execute_result"
    }
   ],
   "source": [
    "log_cl.head(3)"
   ]
  },
  {
   "cell_type": "code",
   "execution_count": 69,
   "id": "7d202c43",
   "metadata": {},
   "outputs": [
    {
     "data": {
      "text/plain": [
       "'C:\\\\Users\\\\JUMIA-4237\\\\Desktop\\\\Mr Lanre\\\\log_cl.csv'"
      ]
     },
     "execution_count": 69,
     "metadata": {},
     "output_type": "execute_result"
    }
   ],
   "source": [
    "file_path = r\"C:\\Users\\JUMIA-4237\\Desktop\\Mr Lanre\\log_cl.csv\"\n",
    "log_cl.to_csv(file_path, index=False)\n",
    "\n",
    "file_path"
   ]
  },
  {
   "cell_type": "code",
   "execution_count": null,
   "id": "c848595f",
   "metadata": {},
   "outputs": [],
   "source": []
  }
 ],
 "metadata": {
  "kernelspec": {
   "display_name": "Python 3 (ipykernel)",
   "language": "python",
   "name": "python3"
  },
  "language_info": {
   "codemirror_mode": {
    "name": "ipython",
    "version": 3
   },
   "file_extension": ".py",
   "mimetype": "text/x-python",
   "name": "python",
   "nbconvert_exporter": "python",
   "pygments_lexer": "ipython3",
   "version": "3.11.5"
  }
 },
 "nbformat": 4,
 "nbformat_minor": 5
}
